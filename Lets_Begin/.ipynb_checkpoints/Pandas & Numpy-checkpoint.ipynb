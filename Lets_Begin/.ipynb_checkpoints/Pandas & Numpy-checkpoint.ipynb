{
 "cells": [
  {
   "cell_type": "code",
   "execution_count": 14,
   "metadata": {},
   "outputs": [],
   "source": [
    "import numpy as np"
   ]
  },
  {
   "cell_type": "code",
   "execution_count": 15,
   "metadata": {},
   "outputs": [],
   "source": [
    "import pandas as pd"
   ]
  },
  {
   "cell_type": "code",
   "execution_count": 5,
   "metadata": {},
   "outputs": [
    {
     "name": "stdout",
     "output_type": "stream",
     "text": [
      "[1 2 3 4]\n"
     ]
    }
   ],
   "source": [
    "a=np.array([1,2,3,4])\n",
    "print(a)"
   ]
  },
  {
   "cell_type": "code",
   "execution_count": 11,
   "metadata": {},
   "outputs": [
    {
     "data": {
      "text/plain": [
       "array([[ 0.51483405,  0.83180944,  1.18959253,  1.83908294,  0.10759969,\n",
       "        -0.39540859,  0.19181143, -1.80739142, -0.0195715 , -0.14891924],\n",
       "       [-1.39487723,  1.15997034,  0.14050741, -1.56987909,  0.30769899,\n",
       "         1.58130038, -1.38677872, -1.08561451,  0.6490215 ,  0.31602082],\n",
       "       [ 1.73348392,  1.94478819,  0.18303627,  0.3322547 , -0.77471692,\n",
       "        -0.21540185, -0.11101058,  1.95988622, -0.38427707,  0.26228997],\n",
       "       [-0.53100687, -0.57130793,  0.54338848, -0.90273915, -1.05284182,\n",
       "         0.22303386, -1.57440369, -0.88027648, -0.45741355,  0.60800711],\n",
       "       [-0.51530008, -2.10937763, -0.94130981, -0.2020585 , -1.4426543 ,\n",
       "        -1.28945298,  0.47379818,  1.90461004,  0.45061615,  1.55151272]])"
      ]
     },
     "execution_count": 11,
     "metadata": {},
     "output_type": "execute_result"
    }
   ],
   "source": [
    "np.random.randn(5,10)"
   ]
  },
  {
   "cell_type": "code",
   "execution_count": 12,
   "metadata": {},
   "outputs": [
    {
     "data": {
      "text/plain": [
       "array([[0.883065  , 0.60605066, 0.71519577, 0.42717489, 0.86223915,\n",
       "        0.70272222, 0.61449879, 0.54158275, 0.89875899, 0.65394422],\n",
       "       [0.41415942, 0.94996031, 0.39955554, 0.68223416, 0.08450486,\n",
       "        0.39472783, 0.60224828, 0.75416638, 0.04817066, 0.36940965],\n",
       "       [0.58926807, 0.43746034, 0.97818933, 0.61778812, 0.71000509,\n",
       "        0.14311788, 0.89077633, 0.75316418, 0.76287853, 0.95762048],\n",
       "       [0.13713414, 0.78584941, 0.93228204, 0.50982288, 0.52748486,\n",
       "        0.78362225, 0.54233423, 0.69590182, 0.64752729, 0.0764271 ],\n",
       "       [0.84320424, 0.35309721, 0.93946927, 0.72160412, 0.83290905,\n",
       "        0.50854431, 0.74011503, 0.78831105, 0.46927483, 0.38710697]])"
      ]
     },
     "execution_count": 12,
     "metadata": {},
     "output_type": "execute_result"
    }
   ],
   "source": [
    "np.random.rand(5,10)"
   ]
  },
  {
   "cell_type": "code",
   "execution_count": 17,
   "metadata": {},
   "outputs": [
    {
     "name": "stdout",
     "output_type": "stream",
     "text": [
      "[1, 1, 2, 3, 6, 8, 10]\n"
     ]
    }
   ],
   "source": [
    "#Sorting an array in ascending order. How about in descending order?? \n",
    "\n",
    "def quicksort(arr):\n",
    "    if len(arr) <= 1:\n",
    "        return arr\n",
    "    pivot = arr[len(arr) // 2]\n",
    "    left = [x for x in arr if x < pivot]\n",
    "    middle = [x for x in arr if x == pivot]\n",
    "    right = [x for x in arr if x > pivot]\n",
    "    return quicksort(left) + middle + quicksort(right)\n",
    "\n",
    "print (quicksort([3,6,8,10,1,2,1]))"
   ]
  },
  {
   "cell_type": "code",
   "execution_count": 18,
   "metadata": {},
   "outputs": [
    {
     "name": "stdout",
     "output_type": "stream",
     "text": [
      "[10, 8, 6, 3, 2, 1, 1]\n"
     ]
    }
   ],
   "source": [
    "#Its so easy! I am loving it..time for McD!\n",
    "\n",
    "def quicksort(arr):\n",
    "    if len(arr) <= 1:\n",
    "        return arr\n",
    "    pivot = arr[len(arr) // 2]\n",
    "    right = [x for x in arr if x < pivot]\n",
    "    middle = [x for x in arr if x == pivot]\n",
    "    left = [x for x in arr if x > pivot]\n",
    "    return quicksort(left) + middle + quicksort(right)\n",
    "\n",
    "print (quicksort([3,6,8,10,1,2,1]))"
   ]
  },
  {
   "cell_type": "code",
   "execution_count": 25,
   "metadata": {},
   "outputs": [
    {
     "name": "stdout",
     "output_type": "stream",
     "text": [
      "3\n",
      "<class 'int'>\n",
      "<class 'float'>\n"
     ]
    }
   ],
   "source": [
    "a=2\n",
    "a+=1\n",
    "print(a)\n",
    "print(type(a))\n",
    "b=1.44e-1\n",
    "print(type(b)) #I was expecting some scientific type but it appears to be float type"
   ]
  },
  {
   "cell_type": "code",
   "execution_count": 27,
   "metadata": {},
   "outputs": [
    {
     "name": "stdout",
     "output_type": "stream",
     "text": [
      "False\n",
      "True\n"
     ]
    }
   ],
   "source": [
    "#logical test\n",
    "x=True\n",
    "y=False\n",
    "print(x and y) #uses words instead of symbols && in other programming languages\n",
    "print(not y)"
   ]
  },
  {
   "cell_type": "code",
   "execution_count": 36,
   "metadata": {},
   "outputs": [
    {
     "name": "stdout",
     "output_type": "stream",
     "text": [
      "Tapan\n",
      "     tapan\n",
      "tApAn\n",
      "world\n"
     ]
    }
   ],
   "source": [
    "#Few string methods\n",
    "t=\"tapan\"\n",
    "print(t.capitalize()) #Proper name always with capital letter,I always like it that way \n",
    "print(t.rjust(10))\n",
    "print(t.replace(\"a\",\"A\"))\n",
    "print('  world '.strip()) #strip whitespaces\n",
    "# still I dont get why few methods use () towards the end"
   ]
  },
  {
   "cell_type": "markdown",
   "metadata": {},
   "source": [
    "Containers-4 types are:\n",
    "#1.List\n",
    "#2.Dictionary\n",
    "#3.Tuples\n",
    "#4.Sets"
   ]
  },
  {
   "cell_type": "markdown",
   "metadata": {},
   "source": [
    "# 1.list\n",
    "\n",
    "List is ordered collection of elements.\n",
    "Therefore,List can be accessed via index\n",
    "\n",
    "Lists are mutable\n",
    "\n",
    "Most Important thing- Index in python starts from 0"
   ]
  },
  {
   "cell_type": "code",
   "execution_count": 20,
   "metadata": {},
   "outputs": [
    {
     "name": "stdout",
     "output_type": "stream",
     "text": [
      "5\n"
     ]
    }
   ],
   "source": [
    "ls=[2,4,6,8,9,10] #Simple List\n",
    "li=[2,3,[1,5]] #Nested list\n",
    "print(li[2][1]) # how to access nested element"
   ]
  },
  {
   "cell_type": "code",
   "execution_count": 22,
   "metadata": {},
   "outputs": [
    {
     "data": {
      "text/plain": [
       "[2, 4, 6, 8]"
      ]
     },
     "execution_count": 22,
     "metadata": {},
     "output_type": "execute_result"
    }
   ],
   "source": [
    "ls[0:4]"
   ]
  },
  {
   "cell_type": "code",
   "execution_count": 23,
   "metadata": {},
   "outputs": [
    {
     "data": {
      "text/plain": [
       "[4, 6, 8, 9, 10]"
      ]
     },
     "execution_count": 23,
     "metadata": {},
     "output_type": "execute_result"
    }
   ],
   "source": [
    "ls[1:]"
   ]
  },
  {
   "cell_type": "code",
   "execution_count": 24,
   "metadata": {},
   "outputs": [
    {
     "data": {
      "text/plain": [
       "10"
      ]
     },
     "execution_count": 24,
     "metadata": {},
     "output_type": "execute_result"
    }
   ],
   "source": [
    "ls[-1] #or ls[-1:]"
   ]
  },
  {
   "cell_type": "code",
   "execution_count": 25,
   "metadata": {},
   "outputs": [
    {
     "data": {
      "text/plain": [
       "[2, 4, 6, 8, 9]"
      ]
     },
     "execution_count": 25,
     "metadata": {},
     "output_type": "execute_result"
    }
   ],
   "source": [
    "ls[:-1]"
   ]
  },
  {
   "cell_type": "code",
   "execution_count": 8,
   "metadata": {},
   "outputs": [],
   "source": [
    "array=([2,4,6])"
   ]
  },
  {
   "cell_type": "code",
   "execution_count": 9,
   "metadata": {},
   "outputs": [
    {
     "data": {
      "text/plain": [
       "[4, 6]"
      ]
     },
     "execution_count": 9,
     "metadata": {},
     "output_type": "execute_result"
    }
   ],
   "source": [
    "array[1:]"
   ]
  },
  {
   "cell_type": "code",
   "execution_count": 50,
   "metadata": {},
   "outputs": [
    {
     "name": "stdout",
     "output_type": "stream",
     "text": [
      "[2, 4]\n",
      "[2, 4]\n",
      "6\n"
     ]
    }
   ],
   "source": [
    "print(ls[0:2]) #Remember n-1 rule in python\n",
    "print(ls[:-1]) #In reverse order\n",
    "print(ls[-1]) #Reverse access"
   ]
  },
  {
   "cell_type": "code",
   "execution_count": 52,
   "metadata": {},
   "outputs": [
    {
     "name": "stdout",
     "output_type": "stream",
     "text": [
      "[2, 4, 6, 8, 8]\n",
      "[2, 3, [1, 5], [7]]\n"
     ]
    }
   ],
   "source": [
    "#Append to list\n",
    "ls.append(8)\n",
    "print(x)\n",
    "li.append([7])\n",
    "print(z)"
   ]
  },
  {
   "cell_type": "code",
   "execution_count": 67,
   "metadata": {},
   "outputs": [
    {
     "name": "stdout",
     "output_type": "stream",
     "text": [
      "[3, 'z', 'z', 'z', 'z', 4, 6, 8, 8]\n",
      "[3, 'z', 'z', 'z', 'z', 4, 6, 8, 8]\n"
     ]
    }
   ],
   "source": [
    "#Insert in list\n",
    "ls.insert(1,\"z\") #at first position Z will be added,rest numbers will be shifted to right\n",
    "print(ls)\n",
    "\n",
    "#Mutability test\n",
    "ls[0]=3\n",
    "print(ls)"
   ]
  },
  {
   "cell_type": "markdown",
   "metadata": {},
   "source": [
    "# 2.Dictionary- A pair \n",
    "\n",
    "{key:Value}\n",
    "\n",
    "Unordered collection of elements.Therefore,dictionary cannot be accessed by indexes\n",
    "\n",
    "Never use duplicate keys\n",
    "\n",
    "Keys have to immutable i.e. you cannot change keys.Therefore,list or dictonary cannot be used as keys.Tuples,which we will study ahead, can be used as keys\n",
    "\n",
    "Values are mutable i.e. values can be changed\n",
    "\n",
    "Uses concept of hash tables-->Keys are used as address at which value is stored"
   ]
  },
  {
   "cell_type": "code",
   "execution_count": 59,
   "metadata": {},
   "outputs": [
    {
     "name": "stdout",
     "output_type": "stream",
     "text": [
      "Tapan\n",
      "[1, 2, 4]\n"
     ]
    }
   ],
   "source": [
    "dic={\"name\":\"Tapan\",1:[1,2,4]}\n",
    "#print(dic) you cannot print a dictionary like this\n",
    "\n",
    "print(dic[\"name\"])\n",
    "print(dic[1]) #value is accessed using key"
   ]
  },
  {
   "cell_type": "code",
   "execution_count": 62,
   "metadata": {},
   "outputs": [
    {
     "name": "stdout",
     "output_type": "stream",
     "text": [
      "Rahul\n"
     ]
    }
   ],
   "source": [
    "#Changing Dictionary values using keys-Mutability test\n",
    "dic[\"name\"]=\"Rahul\"\n",
    "print(dic[\"name\"])"
   ]
  },
  {
   "cell_type": "markdown",
   "metadata": {},
   "source": [
    "# 3.Tuples\n",
    "\n",
    "Ordered collection of data.Therefore,Indexing works in tuple\n",
    "\n",
    "Tuple is a collection of immutable objects/elements i.e you cannot change values once it is intialised\n",
    "\n",
    "Tuples can be used for account numbers since they are immutable\n",
    "\n"
   ]
  },
  {
   "cell_type": "code",
   "execution_count": 64,
   "metadata": {},
   "outputs": [
    {
     "name": "stdout",
     "output_type": "stream",
     "text": [
      "(8, 9)\n"
     ]
    }
   ],
   "source": [
    "tup=(7,8,9)\n",
    "print(tup[1:3])"
   ]
  },
  {
   "cell_type": "code",
   "execution_count": 77,
   "metadata": {},
   "outputs": [],
   "source": [
    "#tup[0]=5 #gives error since tuples are immutable-Mutability test\n",
    "\n",
    "#tup.append([5]) #even append and insert doesnt work on tuples\n",
    "#tup.insert(1,5)"
   ]
  },
  {
   "cell_type": "markdown",
   "metadata": {},
   "source": [
    "# 4.Sets\n",
    "\n",
    "Unordered collection of data.Therefore,sets cannot be accessed by indexes\n",
    "\n",
    "Sets are immutable and non iterable.\n",
    "\n",
    "It has no duplicate elements\n",
    "\n",
    "Special quality of sets,they get sorted automatically. Isn't that great for sorting technique??\n"
   ]
  },
  {
   "cell_type": "code",
   "execution_count": 2,
   "metadata": {},
   "outputs": [
    {
     "name": "stdout",
     "output_type": "stream",
     "text": [
      "{1, 2, 3, 4, 5, 6, 7, 8}\n"
     ]
    }
   ],
   "source": [
    "se={7,8,1,2,3,4,5,6}\n",
    "print(se) #sorted"
   ]
  },
  {
   "cell_type": "code",
   "execution_count": 3,
   "metadata": {},
   "outputs": [
    {
     "ename": "TypeError",
     "evalue": "'set' object does not support indexing",
     "output_type": "error",
     "traceback": [
      "\u001b[1;31m---------------------------------------------------------------------------\u001b[0m",
      "\u001b[1;31mTypeError\u001b[0m                                 Traceback (most recent call last)",
      "\u001b[1;32m<ipython-input-3-3cbd5c5363a0>\u001b[0m in \u001b[0;36m<module>\u001b[1;34m()\u001b[0m\n\u001b[1;32m----> 1\u001b[1;33m \u001b[0mse\u001b[0m\u001b[1;33m[\u001b[0m\u001b[1;36m1\u001b[0m\u001b[1;33m]\u001b[0m\u001b[1;33m\u001b[0m\u001b[0m\n\u001b[0m",
      "\u001b[1;31mTypeError\u001b[0m: 'set' object does not support indexing"
     ]
    }
   ],
   "source": [
    "se[1]"
   ]
  },
  {
   "cell_type": "markdown",
   "metadata": {},
   "source": [
    "CLOSING NOTES:\n",
    "\n",
    "So, finally we can say Dictionary is more like sets.\n",
    "\n",
    "And,elements of set,element of tuple & keys of dictionary should be hashable type i.e. it can be efficiently stored. Google more for hasable types.\n",
    "\n",
    "Values of dictionary and list is non hashable type\n",
    "\n",
    "Lists and tuples are more similar with biggest difference being they mutability"
   ]
  },
  {
   "cell_type": "markdown",
   "metadata": {},
   "source": [
    "Difference between  List & Array\n",
    "\n",
    "Lists are heterogeneous, Arrays are homogeneous\n",
    "\n",
    "List you can use append, array we cannot use append\n",
    "\n",
    "Lists do not support vectorised operations\n",
    "e.g.\n"
   ]
  },
  {
   "cell_type": "code",
   "execution_count": 73,
   "metadata": {},
   "outputs": [
    {
     "name": "stdout",
     "output_type": "stream",
     "text": [
      "[1, 2, 3, 1, 2, 3]\n"
     ]
    }
   ],
   "source": [
    "x=[1,2,3]\n",
    "y=x*2\n",
    "print (y) #see it got printed twice in list"
   ]
  },
  {
   "cell_type": "code",
   "execution_count": 75,
   "metadata": {},
   "outputs": [
    {
     "name": "stdout",
     "output_type": "stream",
     "text": [
      "[1, 2, 3, 2, 3, 6]\n"
     ]
    }
   ],
   "source": [
    "x=[1,2,3]\n",
    "y=[2,3,6]\n",
    "z=x+y\n",
    "print (z) "
   ]
  },
  {
   "cell_type": "markdown",
   "metadata": {},
   "source": [
    "# Array\n",
    "\n",
    "Handles vectorised Operation\n",
    "\n",
    "One data type(homogeneous)\n",
    "\n",
    "Arrays are mutable"
   ]
  },
  {
   "cell_type": "code",
   "execution_count": null,
   "metadata": {},
   "outputs": [],
   "source": []
  },
  {
   "cell_type": "code",
   "execution_count": null,
   "metadata": {},
   "outputs": [],
   "source": []
  }
 ],
 "metadata": {
  "kernelspec": {
   "display_name": "Python 3",
   "language": "python",
   "name": "python3"
  },
  "language_info": {
   "codemirror_mode": {
    "name": "ipython",
    "version": 3
   },
   "file_extension": ".py",
   "mimetype": "text/x-python",
   "name": "python",
   "nbconvert_exporter": "python",
   "pygments_lexer": "ipython3",
   "version": "3.7.0"
  }
 },
 "nbformat": 4,
 "nbformat_minor": 2
}
